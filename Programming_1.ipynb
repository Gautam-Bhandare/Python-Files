{
 "cells": [
  {
   "cell_type": "markdown",
   "id": "637b47a5",
   "metadata": {},
   "source": [
    "## Programming Assignment_1\n",
    "-------------"
   ]
  },
  {
   "cell_type": "markdown",
   "id": "0c647dbe",
   "metadata": {},
   "source": [
    "### 1. Write a Python program to print \"Hello Python\"?"
   ]
  },
  {
   "cell_type": "code",
   "execution_count": 1,
   "id": "77a4b3f3",
   "metadata": {},
   "outputs": [
    {
     "name": "stdout",
     "output_type": "stream",
     "text": [
      "Hello Python\n"
     ]
    }
   ],
   "source": [
    "print('Hello Python')"
   ]
  },
  {
   "cell_type": "markdown",
   "id": "fc18a6cd",
   "metadata": {},
   "source": [
    "### 2. Write a Python program to do arithmetical operations addition and division.?\n"
   ]
  },
  {
   "cell_type": "code",
   "execution_count": 11,
   "id": "4b350370",
   "metadata": {},
   "outputs": [
    {
     "name": "stdout",
     "output_type": "stream",
     "text": [
      "Enter value for variable a - 10\n",
      "Enter value for variable b - 5\n",
      "the value of addition is  15\n",
      "the value of division is  2.0\n"
     ]
    }
   ],
   "source": [
    "a=eval(input('Enter value for variable a - '))\n",
    "b=eval(input('Enter value for variable b - '))\n",
    "\n",
    "add = a+b\n",
    "div = a/b\n",
    "\n",
    "print('the value of addition is ',add)\n",
    "print('the value of division is ',div)"
   ]
  },
  {
   "cell_type": "markdown",
   "id": "af6e2429",
   "metadata": {},
   "source": [
    "### 3. Write a Python program to find the area of a triangle?\n"
   ]
  },
  {
   "cell_type": "code",
   "execution_count": 9,
   "id": "3b1bc4da",
   "metadata": {},
   "outputs": [
    {
     "name": "stdout",
     "output_type": "stream",
     "text": [
      "Enter the length - 12\n",
      "Enter the breath - 12\n",
      "Area of triangle is 72.0\n"
     ]
    }
   ],
   "source": [
    "length = eval(input('Enter the length - '))\n",
    "breath = eval(input('Enter the breath - '))\n",
    "\n",
    "area = 0.5*length*breath\n",
    "\n",
    "print('Area of triangle is', area)"
   ]
  },
  {
   "cell_type": "markdown",
   "id": "b8140061",
   "metadata": {},
   "source": [
    "### 4. Write a Python program to swap two variables?\n"
   ]
  },
  {
   "cell_type": "code",
   "execution_count": 6,
   "id": "8565e1ce",
   "metadata": {},
   "outputs": [
    {
     "name": "stdout",
     "output_type": "stream",
     "text": [
      "Enter value for variable a - 80\n",
      "Enter value for variable b - 90\n",
      "the value of a is  90\n",
      "the value of b is  80\n"
     ]
    }
   ],
   "source": [
    "a=input('Enter value for variable a - ')\n",
    "b=input('Enter value for variable b - ')\n",
    "\n",
    "c=a\n",
    "a=b\n",
    "b=c\n",
    "\n",
    "print('the value of a is ',a)\n",
    "print('the value of b is ',b)\n"
   ]
  },
  {
   "cell_type": "markdown",
   "id": "3f8054c1",
   "metadata": {},
   "source": [
    "### 5. Write a Python program to generate a random number?\n"
   ]
  },
  {
   "cell_type": "code",
   "execution_count": 7,
   "id": "54f656fa",
   "metadata": {},
   "outputs": [
    {
     "name": "stdout",
     "output_type": "stream",
     "text": [
      "79\n"
     ]
    }
   ],
   "source": [
    "import random as r\n",
    "\n",
    "print(r.randint(1,99))"
   ]
  },
  {
   "cell_type": "code",
   "execution_count": null,
   "id": "ebdeec0c",
   "metadata": {},
   "outputs": [],
   "source": []
  }
 ],
 "metadata": {
  "kernelspec": {
   "display_name": "Python 3 (ipykernel)",
   "language": "python",
   "name": "python3"
  },
  "language_info": {
   "codemirror_mode": {
    "name": "ipython",
    "version": 3
   },
   "file_extension": ".py",
   "mimetype": "text/x-python",
   "name": "python",
   "nbconvert_exporter": "python",
   "pygments_lexer": "ipython3",
   "version": "3.9.7"
  }
 },
 "nbformat": 4,
 "nbformat_minor": 5
}
