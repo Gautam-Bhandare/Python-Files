{
 "cells": [
  {
   "cell_type": "markdown",
   "id": "3dcb940f",
   "metadata": {},
   "source": [
    "## Python Basic Programming Assignment 10"
   ]
  },
  {
   "cell_type": "markdown",
   "id": "6720790a",
   "metadata": {},
   "source": [
    "### 1. Write a Python program to find sum of elements in list?"
   ]
  },
  {
   "cell_type": "code",
   "execution_count": 88,
   "id": "517f832e",
   "metadata": {},
   "outputs": [
    {
     "name": "stdout",
     "output_type": "stream",
     "text": [
      "20\n"
     ]
    }
   ],
   "source": [
    "a=[1,2,3,3,4,5,2]\n",
    "b=0\n",
    "\n",
    "for x in a:\n",
    "    b=b+x\n",
    "        \n",
    "print(b)"
   ]
  },
  {
   "cell_type": "markdown",
   "id": "fe1137c3",
   "metadata": {},
   "source": [
    "### 2. Write a Python program to  Multiply all numbers in the list?"
   ]
  },
  {
   "cell_type": "code",
   "execution_count": 51,
   "id": "5ea39053",
   "metadata": {},
   "outputs": [
    {
     "name": "stdout",
     "output_type": "stream",
     "text": [
      "720\n"
     ]
    }
   ],
   "source": [
    "a=[1,2,3,3,4,5,2]\n",
    "b=1\n",
    "\n",
    "for x in a:\n",
    "    b=b*x\n",
    "        \n",
    "print(b)"
   ]
  },
  {
   "cell_type": "markdown",
   "id": "078681db",
   "metadata": {},
   "source": [
    "### 3. Write a Python program to find smallest number in a list?"
   ]
  },
  {
   "cell_type": "code",
   "execution_count": 54,
   "id": "a3e11340",
   "metadata": {},
   "outputs": [
    {
     "name": "stdout",
     "output_type": "stream",
     "text": [
      "1\n"
     ]
    }
   ],
   "source": [
    "a=[5,6,7,2,4,6,8,3,1000,999,1,24,25]\n",
    "a.sort()\n",
    "\n",
    "print(a[0])"
   ]
  },
  {
   "cell_type": "markdown",
   "id": "12b04397",
   "metadata": {},
   "source": [
    "### 4. Write a Python program to find largest number in a list?"
   ]
  },
  {
   "cell_type": "code",
   "execution_count": 56,
   "id": "d9086bfd",
   "metadata": {},
   "outputs": [
    {
     "name": "stdout",
     "output_type": "stream",
     "text": [
      "1000\n"
     ]
    }
   ],
   "source": [
    "a=[5,6,7,2,4,6,8,3,1000,999,1,24,25]\n",
    "a.sort()\n",
    "\n",
    "print(a[len(a)-1])"
   ]
  },
  {
   "cell_type": "markdown",
   "id": "86442b51",
   "metadata": {},
   "source": [
    "### 5. Write a Python program to find second largest number in a list?"
   ]
  },
  {
   "cell_type": "code",
   "execution_count": 59,
   "id": "bede63e5",
   "metadata": {},
   "outputs": [
    {
     "name": "stdout",
     "output_type": "stream",
     "text": [
      "999\n"
     ]
    }
   ],
   "source": [
    "a=[5,6,7,2,4,6,8,3,1000,999,1,24,25]\n",
    "a.sort()\n",
    "\n",
    "print(a[len(a)-2])"
   ]
  },
  {
   "cell_type": "markdown",
   "id": "10964d7d",
   "metadata": {},
   "source": [
    "### 6. Write a Python program to find N largest elements from a list?"
   ]
  },
  {
   "cell_type": "markdown",
   "id": "2f1a1e98",
   "metadata": {},
   "source": [
    "### 7. Write a Python program to print even numbers in a list?"
   ]
  },
  {
   "cell_type": "code",
   "execution_count": 43,
   "id": "e50f7aff",
   "metadata": {},
   "outputs": [
    {
     "name": "stdout",
     "output_type": "stream",
     "text": [
      "[2, 4, 6, 8]\n"
     ]
    }
   ],
   "source": [
    "a=[1,2,3,4,5,6,7,8,9]\n",
    "b=[]\n",
    "\n",
    "for x in a:\n",
    "    if x%2==0:\n",
    "        b.append(x)\n",
    "        \n",
    "print(b)"
   ]
  },
  {
   "cell_type": "markdown",
   "id": "989bb324",
   "metadata": {},
   "source": [
    "### 8. Write a Python program to print odd numbers in a List?"
   ]
  },
  {
   "cell_type": "code",
   "execution_count": 41,
   "id": "d954730f",
   "metadata": {},
   "outputs": [
    {
     "name": "stdout",
     "output_type": "stream",
     "text": [
      "[1, 3, 5, 7, 9]\n"
     ]
    }
   ],
   "source": [
    "a=[1,2,3,4,5,6,7,8,9]\n",
    "b=[]\n",
    "\n",
    "for x in a:\n",
    "    if x%2!=0:\n",
    "        b.append(x)\n",
    "        \n",
    "print(b)"
   ]
  },
  {
   "cell_type": "markdown",
   "id": "185b7b13",
   "metadata": {},
   "source": [
    "### 9. Write a Python program to Remove empty List from List?"
   ]
  },
  {
   "cell_type": "code",
   "execution_count": 61,
   "id": "ab76e188",
   "metadata": {},
   "outputs": [
    {
     "name": "stdout",
     "output_type": "stream",
     "text": [
      "Enter number of elements in list: 7\n",
      "Enter elements: 1\n",
      "Enter elements: 2\n",
      "Enter elements: 3\n",
      "Enter elements: 5\n",
      "Enter elements: 6\n",
      "Enter elements: 3\n",
      "Enter elements: 7\n",
      "Largest element is: 7\n"
     ]
    }
   ],
   "source": [
    "list1 = []\n",
    " \n",
    "# asking number of elements to put in list\n",
    "num = int(input(\"Enter number of elements in list: \"))\n",
    " \n",
    "# iterating till num to append elements in list\n",
    "for i in range(1, num + 1):\n",
    "    ele = int(input(\"Enter elements: \"))\n",
    "    list1.append(ele)\n",
    "     \n",
    "# print maximum element\n",
    "print(\"Largest element is:\", max(list1))"
   ]
  },
  {
   "cell_type": "markdown",
   "id": "278cfacc",
   "metadata": {},
   "source": [
    "### 10. Write a Python program to Cloning or Copying a list?"
   ]
  },
  {
   "cell_type": "code",
   "execution_count": 87,
   "id": "bd796227",
   "metadata": {},
   "outputs": [
    {
     "name": "stdout",
     "output_type": "stream",
     "text": [
      "Enter the how many numbers you want to enter into list - 5\n",
      "Enter the numbers -1\n",
      "Enter the numbers -2\n",
      "Enter the numbers -3\n",
      "Enter the numbers -12\n",
      "Enter the numbers -12\n",
      "[1, 2, 3, 12, 12]\n",
      "[1, 2, 3, 12, 12]\n"
     ]
    }
   ],
   "source": [
    "li=[]\n",
    "c=[]\n",
    "a=int(input('Enter the how many numbers you want to enter into list - '))\n",
    "\n",
    "for x in range(0,a):\n",
    "    b=input('Enter the numbers -')\n",
    "    li.append(int(b))\n",
    "    \n",
    "print(li)\n",
    "\n",
    "copied=list(li)\n",
    "\n",
    "print(copied)"
   ]
  },
  {
   "cell_type": "markdown",
   "id": "b359bedf",
   "metadata": {},
   "source": [
    "### 11. Write a Python program to Count occurrences of an element in a list?"
   ]
  },
  {
   "cell_type": "code",
   "execution_count": 77,
   "id": "eee5ffdb",
   "metadata": {},
   "outputs": [
    {
     "name": "stdout",
     "output_type": "stream",
     "text": [
      "Enter the how many numbers you want to enter into list - 1\n",
      "Enter the numbers -1\n",
      "Enter the number to count occurrence -1\n",
      "1\n"
     ]
    }
   ],
   "source": [
    "li=[]\n",
    "\n",
    "a=int(input('Enter the how many numbers you want to enter into list - '))\n",
    "\n",
    "for x in range(0,a):\n",
    "    b=input('Enter the numbers -')\n",
    "    li.append(b)\n",
    "\n",
    "n=input('Enter the number to count occurrence -')\n",
    "\n",
    "print(li.count(n))"
   ]
  },
  {
   "cell_type": "code",
   "execution_count": null,
   "id": "6bc98bd2",
   "metadata": {},
   "outputs": [],
   "source": []
  }
 ],
 "metadata": {
  "kernelspec": {
   "display_name": "Python 3 (ipykernel)",
   "language": "python",
   "name": "python3"
  },
  "language_info": {
   "codemirror_mode": {
    "name": "ipython",
    "version": 3
   },
   "file_extension": ".py",
   "mimetype": "text/x-python",
   "name": "python",
   "nbconvert_exporter": "python",
   "pygments_lexer": "ipython3",
   "version": "3.9.7"
  }
 },
 "nbformat": 4,
 "nbformat_minor": 5
}
